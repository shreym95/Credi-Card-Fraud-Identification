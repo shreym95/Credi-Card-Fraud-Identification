{
 "cells": [
  {
   "cell_type": "markdown",
   "metadata": {},
   "source": [
    "# Credit Card Fraud Detection\n",
    "#### A Case Study\n",
    "***\n"
   ]
  },
  {
   "cell_type": "markdown",
   "metadata": {},
   "source": [
    "The aim is to identify a fraudulent credit card transaction from a non-fraudulent one, and subsequently build a model to predict the same.\n",
    "The dataset provided is for transactions made by credit cards in September 2013 by european cardholders, for a time period of two days."
   ]
  },
  {
   "cell_type": "markdown",
   "metadata": {},
   "source": [
    "From the source of this dataset, we have the information that there are over 2 lakh data points, out of which less than one percent is classified as fraud. It is a clear **Class Imbalance** scenario. As an initial thought, we will have to keep that in mind during our model building phase. Let's dive into it."
   ]
  },
  {
   "cell_type": "code",
   "execution_count": 1,
   "metadata": {},
   "outputs": [
    {
     "name": "stderr",
     "output_type": "stream",
     "text": [
      "Using TensorFlow backend.\n"
     ]
    }
   ],
   "source": [
    "import pandas as pd\n",
    "import numpy as np\n",
    "import seaborn as sns\n",
    "import matplotlib.pyplot as plt\n",
    "import datetime\n",
    "import time\n",
    "import os\n",
    "from pprint import pprint\n",
    "from sklearn.preprocessing import MinMaxScaler\n",
    "from sklearn.feature_selection import SelectKBest\n",
    "from sklearn.model_selection import GridSearchCV\n",
    "from sklearn.pipeline import Pipeline\n",
    "from sklearn.naive_bayes import GaussianNB\n",
    "from sklearn.tree import DecisionTreeClassifier\n",
    "from sklearn.linear_model import LogisticRegression\n",
    "from sklearn.model_selection import KFold, StratifiedKFold\n",
    "from sklearn.model_selection import StratifiedShuffleSplit\n",
    "from sklearn.ensemble import AdaBoostClassifier, RandomForestClassifier, GradientBoostingClassifier\n",
    "from imblearn.over_sampling import SMOTE\n",
    "from sklearn.metrics import accuracy_score\n",
    "from sklearn.metrics import precision_recall_curve\n",
    "from sklearn.metrics import mean_squared_error\n",
    "from sklearn import model_selection\n",
    "from sklearn.metrics import confusion_matrix\n",
    "from sklearn.metrics import classification_report"
   ]
  },
  {
   "cell_type": "code",
   "execution_count": 2,
   "metadata": {},
   "outputs": [
    {
     "name": "stdout",
     "output_type": "stream",
     "text": [
      "/kaggle/working\r\n"
     ]
    }
   ],
   "source": [
    "!pwd"
   ]
  },
  {
   "cell_type": "code",
   "execution_count": 3,
   "metadata": {},
   "outputs": [],
   "source": [
    "#Change directory to where dataset is - not required on kaggle\n",
    "#os.chdir(\"X:\\\\Datasets\\creditcardfraud\")"
   ]
  },
  {
   "cell_type": "code",
   "execution_count": 4,
   "metadata": {},
   "outputs": [],
   "source": [
    "#Reading the dataset\n",
    "master_df=pd.read_csv('../input/creditcardfraud/creditcard.csv')"
   ]
  },
  {
   "cell_type": "code",
   "execution_count": 5,
   "metadata": {},
   "outputs": [],
   "source": [
    "#Keeping our original dataset safe :)\n",
    "transaction_data = master_df.copy()"
   ]
  },
  {
   "cell_type": "code",
   "execution_count": 6,
   "metadata": {
    "scrolled": true
   },
   "outputs": [
    {
     "data": {
      "text/html": [
       "<div>\n",
       "<style scoped>\n",
       "    .dataframe tbody tr th:only-of-type {\n",
       "        vertical-align: middle;\n",
       "    }\n",
       "\n",
       "    .dataframe tbody tr th {\n",
       "        vertical-align: top;\n",
       "    }\n",
       "\n",
       "    .dataframe thead th {\n",
       "        text-align: right;\n",
       "    }\n",
       "</style>\n",
       "<table border=\"1\" class=\"dataframe\">\n",
       "  <thead>\n",
       "    <tr style=\"text-align: right;\">\n",
       "      <th></th>\n",
       "      <th>Time</th>\n",
       "      <th>V1</th>\n",
       "      <th>V2</th>\n",
       "      <th>V3</th>\n",
       "      <th>V4</th>\n",
       "      <th>V5</th>\n",
       "      <th>V6</th>\n",
       "      <th>V7</th>\n",
       "      <th>V8</th>\n",
       "      <th>V9</th>\n",
       "      <th>...</th>\n",
       "      <th>V21</th>\n",
       "      <th>V22</th>\n",
       "      <th>V23</th>\n",
       "      <th>V24</th>\n",
       "      <th>V25</th>\n",
       "      <th>V26</th>\n",
       "      <th>V27</th>\n",
       "      <th>V28</th>\n",
       "      <th>Amount</th>\n",
       "      <th>Class</th>\n",
       "    </tr>\n",
       "  </thead>\n",
       "  <tbody>\n",
       "    <tr>\n",
       "      <th>0</th>\n",
       "      <td>0.0</td>\n",
       "      <td>-1.359807</td>\n",
       "      <td>-0.072781</td>\n",
       "      <td>2.536347</td>\n",
       "      <td>1.378155</td>\n",
       "      <td>-0.338321</td>\n",
       "      <td>0.462388</td>\n",
       "      <td>0.239599</td>\n",
       "      <td>0.098698</td>\n",
       "      <td>0.363787</td>\n",
       "      <td>...</td>\n",
       "      <td>-0.018307</td>\n",
       "      <td>0.277838</td>\n",
       "      <td>-0.110474</td>\n",
       "      <td>0.066928</td>\n",
       "      <td>0.128539</td>\n",
       "      <td>-0.189115</td>\n",
       "      <td>0.133558</td>\n",
       "      <td>-0.021053</td>\n",
       "      <td>149.62</td>\n",
       "      <td>0</td>\n",
       "    </tr>\n",
       "    <tr>\n",
       "      <th>1</th>\n",
       "      <td>0.0</td>\n",
       "      <td>1.191857</td>\n",
       "      <td>0.266151</td>\n",
       "      <td>0.166480</td>\n",
       "      <td>0.448154</td>\n",
       "      <td>0.060018</td>\n",
       "      <td>-0.082361</td>\n",
       "      <td>-0.078803</td>\n",
       "      <td>0.085102</td>\n",
       "      <td>-0.255425</td>\n",
       "      <td>...</td>\n",
       "      <td>-0.225775</td>\n",
       "      <td>-0.638672</td>\n",
       "      <td>0.101288</td>\n",
       "      <td>-0.339846</td>\n",
       "      <td>0.167170</td>\n",
       "      <td>0.125895</td>\n",
       "      <td>-0.008983</td>\n",
       "      <td>0.014724</td>\n",
       "      <td>2.69</td>\n",
       "      <td>0</td>\n",
       "    </tr>\n",
       "    <tr>\n",
       "      <th>2</th>\n",
       "      <td>1.0</td>\n",
       "      <td>-1.358354</td>\n",
       "      <td>-1.340163</td>\n",
       "      <td>1.773209</td>\n",
       "      <td>0.379780</td>\n",
       "      <td>-0.503198</td>\n",
       "      <td>1.800499</td>\n",
       "      <td>0.791461</td>\n",
       "      <td>0.247676</td>\n",
       "      <td>-1.514654</td>\n",
       "      <td>...</td>\n",
       "      <td>0.247998</td>\n",
       "      <td>0.771679</td>\n",
       "      <td>0.909412</td>\n",
       "      <td>-0.689281</td>\n",
       "      <td>-0.327642</td>\n",
       "      <td>-0.139097</td>\n",
       "      <td>-0.055353</td>\n",
       "      <td>-0.059752</td>\n",
       "      <td>378.66</td>\n",
       "      <td>0</td>\n",
       "    </tr>\n",
       "    <tr>\n",
       "      <th>3</th>\n",
       "      <td>1.0</td>\n",
       "      <td>-0.966272</td>\n",
       "      <td>-0.185226</td>\n",
       "      <td>1.792993</td>\n",
       "      <td>-0.863291</td>\n",
       "      <td>-0.010309</td>\n",
       "      <td>1.247203</td>\n",
       "      <td>0.237609</td>\n",
       "      <td>0.377436</td>\n",
       "      <td>-1.387024</td>\n",
       "      <td>...</td>\n",
       "      <td>-0.108300</td>\n",
       "      <td>0.005274</td>\n",
       "      <td>-0.190321</td>\n",
       "      <td>-1.175575</td>\n",
       "      <td>0.647376</td>\n",
       "      <td>-0.221929</td>\n",
       "      <td>0.062723</td>\n",
       "      <td>0.061458</td>\n",
       "      <td>123.50</td>\n",
       "      <td>0</td>\n",
       "    </tr>\n",
       "    <tr>\n",
       "      <th>4</th>\n",
       "      <td>2.0</td>\n",
       "      <td>-1.158233</td>\n",
       "      <td>0.877737</td>\n",
       "      <td>1.548718</td>\n",
       "      <td>0.403034</td>\n",
       "      <td>-0.407193</td>\n",
       "      <td>0.095921</td>\n",
       "      <td>0.592941</td>\n",
       "      <td>-0.270533</td>\n",
       "      <td>0.817739</td>\n",
       "      <td>...</td>\n",
       "      <td>-0.009431</td>\n",
       "      <td>0.798278</td>\n",
       "      <td>-0.137458</td>\n",
       "      <td>0.141267</td>\n",
       "      <td>-0.206010</td>\n",
       "      <td>0.502292</td>\n",
       "      <td>0.219422</td>\n",
       "      <td>0.215153</td>\n",
       "      <td>69.99</td>\n",
       "      <td>0</td>\n",
       "    </tr>\n",
       "  </tbody>\n",
       "</table>\n",
       "<p>5 rows × 31 columns</p>\n",
       "</div>"
      ],
      "text/plain": [
       "   Time        V1        V2        V3        V4        V5        V6        V7  \\\n",
       "0   0.0 -1.359807 -0.072781  2.536347  1.378155 -0.338321  0.462388  0.239599   \n",
       "1   0.0  1.191857  0.266151  0.166480  0.448154  0.060018 -0.082361 -0.078803   \n",
       "2   1.0 -1.358354 -1.340163  1.773209  0.379780 -0.503198  1.800499  0.791461   \n",
       "3   1.0 -0.966272 -0.185226  1.792993 -0.863291 -0.010309  1.247203  0.237609   \n",
       "4   2.0 -1.158233  0.877737  1.548718  0.403034 -0.407193  0.095921  0.592941   \n",
       "\n",
       "         V8        V9  ...       V21       V22       V23       V24       V25  \\\n",
       "0  0.098698  0.363787  ... -0.018307  0.277838 -0.110474  0.066928  0.128539   \n",
       "1  0.085102 -0.255425  ... -0.225775 -0.638672  0.101288 -0.339846  0.167170   \n",
       "2  0.247676 -1.514654  ...  0.247998  0.771679  0.909412 -0.689281 -0.327642   \n",
       "3  0.377436 -1.387024  ... -0.108300  0.005274 -0.190321 -1.175575  0.647376   \n",
       "4 -0.270533  0.817739  ... -0.009431  0.798278 -0.137458  0.141267 -0.206010   \n",
       "\n",
       "        V26       V27       V28  Amount  Class  \n",
       "0 -0.189115  0.133558 -0.021053  149.62      0  \n",
       "1  0.125895 -0.008983  0.014724    2.69      0  \n",
       "2 -0.139097 -0.055353 -0.059752  378.66      0  \n",
       "3 -0.221929  0.062723  0.061458  123.50      0  \n",
       "4  0.502292  0.219422  0.215153   69.99      0  \n",
       "\n",
       "[5 rows x 31 columns]"
      ]
     },
     "metadata": {},
     "output_type": "display_data"
    },
    {
     "name": "stdout",
     "output_type": "stream",
     "text": [
      "Dimensions of the dataset are: (284807, 31)\n"
     ]
    }
   ],
   "source": [
    "display(transaction_data.head())\n",
    "print(\"Dimensions of the dataset are:\", transaction_data.shape)"
   ]
  },
  {
   "cell_type": "code",
   "execution_count": 7,
   "metadata": {},
   "outputs": [
    {
     "name": "stdout",
     "output_type": "stream",
     "text": [
      "Total Fraud transactions are 492 , which is\n",
      "0.17 % of the dataset\n"
     ]
    }
   ],
   "source": [
    "#Data points for Fraudulent transactions\n",
    "fraud = len(transaction_data[transaction_data[\"Class\"]==1])\n",
    "print(\"Total Fraud transactions are\", fraud, \", which is\") \n",
    "print(round(fraud/len(transaction_data) * 100, 2), \"% of the dataset\")"
   ]
  },
  {
   "cell_type": "code",
   "execution_count": 8,
   "metadata": {},
   "outputs": [
    {
     "data": {
      "text/plain": [
       "Time      0\n",
       "V1        0\n",
       "V2        0\n",
       "V3        0\n",
       "V4        0\n",
       "V5        0\n",
       "V6        0\n",
       "V7        0\n",
       "V8        0\n",
       "V9        0\n",
       "V10       0\n",
       "V11       0\n",
       "V12       0\n",
       "V13       0\n",
       "V14       0\n",
       "V15       0\n",
       "V16       0\n",
       "V17       0\n",
       "V18       0\n",
       "V19       0\n",
       "V20       0\n",
       "V21       0\n",
       "V22       0\n",
       "V23       0\n",
       "V24       0\n",
       "V25       0\n",
       "V26       0\n",
       "V27       0\n",
       "V28       0\n",
       "Amount    0\n",
       "Class     0\n",
       "dtype: int64"
      ]
     },
     "execution_count": 8,
     "metadata": {},
     "output_type": "execute_result"
    }
   ],
   "source": [
    "#Checking for null values (all values are numerical)\n",
    "transaction_data.isnull().sum()\n",
    "\n",
    "# We have no null values"
   ]
  },
  {
   "cell_type": "code",
   "execution_count": 9,
   "metadata": {},
   "outputs": [
    {
     "data": {
      "text/html": [
       "<div>\n",
       "<style scoped>\n",
       "    .dataframe tbody tr th:only-of-type {\n",
       "        vertical-align: middle;\n",
       "    }\n",
       "\n",
       "    .dataframe tbody tr th {\n",
       "        vertical-align: top;\n",
       "    }\n",
       "\n",
       "    .dataframe thead th {\n",
       "        text-align: right;\n",
       "    }\n",
       "</style>\n",
       "<table border=\"1\" class=\"dataframe\">\n",
       "  <thead>\n",
       "    <tr style=\"text-align: right;\">\n",
       "      <th></th>\n",
       "      <th>Time</th>\n",
       "      <th>V1</th>\n",
       "      <th>V2</th>\n",
       "      <th>V3</th>\n",
       "      <th>V4</th>\n",
       "      <th>V5</th>\n",
       "      <th>V6</th>\n",
       "      <th>V7</th>\n",
       "      <th>V8</th>\n",
       "      <th>V9</th>\n",
       "      <th>...</th>\n",
       "      <th>V21</th>\n",
       "      <th>V22</th>\n",
       "      <th>V23</th>\n",
       "      <th>V24</th>\n",
       "      <th>V25</th>\n",
       "      <th>V26</th>\n",
       "      <th>V27</th>\n",
       "      <th>V28</th>\n",
       "      <th>Amount</th>\n",
       "      <th>Class</th>\n",
       "    </tr>\n",
       "  </thead>\n",
       "  <tbody>\n",
       "    <tr>\n",
       "      <th>count</th>\n",
       "      <td>284807.000000</td>\n",
       "      <td>2.848070e+05</td>\n",
       "      <td>2.848070e+05</td>\n",
       "      <td>2.848070e+05</td>\n",
       "      <td>2.848070e+05</td>\n",
       "      <td>2.848070e+05</td>\n",
       "      <td>2.848070e+05</td>\n",
       "      <td>2.848070e+05</td>\n",
       "      <td>2.848070e+05</td>\n",
       "      <td>2.848070e+05</td>\n",
       "      <td>...</td>\n",
       "      <td>2.848070e+05</td>\n",
       "      <td>2.848070e+05</td>\n",
       "      <td>2.848070e+05</td>\n",
       "      <td>2.848070e+05</td>\n",
       "      <td>2.848070e+05</td>\n",
       "      <td>2.848070e+05</td>\n",
       "      <td>2.848070e+05</td>\n",
       "      <td>2.848070e+05</td>\n",
       "      <td>284807.000000</td>\n",
       "      <td>284807.000000</td>\n",
       "    </tr>\n",
       "    <tr>\n",
       "      <th>mean</th>\n",
       "      <td>94813.859575</td>\n",
       "      <td>3.919560e-15</td>\n",
       "      <td>5.688174e-16</td>\n",
       "      <td>-8.769071e-15</td>\n",
       "      <td>2.782312e-15</td>\n",
       "      <td>-1.552563e-15</td>\n",
       "      <td>2.010663e-15</td>\n",
       "      <td>-1.694249e-15</td>\n",
       "      <td>-1.927028e-16</td>\n",
       "      <td>-3.137024e-15</td>\n",
       "      <td>...</td>\n",
       "      <td>1.537294e-16</td>\n",
       "      <td>7.959909e-16</td>\n",
       "      <td>5.367590e-16</td>\n",
       "      <td>4.458112e-15</td>\n",
       "      <td>1.453003e-15</td>\n",
       "      <td>1.699104e-15</td>\n",
       "      <td>-3.660161e-16</td>\n",
       "      <td>-1.206049e-16</td>\n",
       "      <td>88.349619</td>\n",
       "      <td>0.001727</td>\n",
       "    </tr>\n",
       "    <tr>\n",
       "      <th>std</th>\n",
       "      <td>47488.145955</td>\n",
       "      <td>1.958696e+00</td>\n",
       "      <td>1.651309e+00</td>\n",
       "      <td>1.516255e+00</td>\n",
       "      <td>1.415869e+00</td>\n",
       "      <td>1.380247e+00</td>\n",
       "      <td>1.332271e+00</td>\n",
       "      <td>1.237094e+00</td>\n",
       "      <td>1.194353e+00</td>\n",
       "      <td>1.098632e+00</td>\n",
       "      <td>...</td>\n",
       "      <td>7.345240e-01</td>\n",
       "      <td>7.257016e-01</td>\n",
       "      <td>6.244603e-01</td>\n",
       "      <td>6.056471e-01</td>\n",
       "      <td>5.212781e-01</td>\n",
       "      <td>4.822270e-01</td>\n",
       "      <td>4.036325e-01</td>\n",
       "      <td>3.300833e-01</td>\n",
       "      <td>250.120109</td>\n",
       "      <td>0.041527</td>\n",
       "    </tr>\n",
       "    <tr>\n",
       "      <th>min</th>\n",
       "      <td>0.000000</td>\n",
       "      <td>-5.640751e+01</td>\n",
       "      <td>-7.271573e+01</td>\n",
       "      <td>-4.832559e+01</td>\n",
       "      <td>-5.683171e+00</td>\n",
       "      <td>-1.137433e+02</td>\n",
       "      <td>-2.616051e+01</td>\n",
       "      <td>-4.355724e+01</td>\n",
       "      <td>-7.321672e+01</td>\n",
       "      <td>-1.343407e+01</td>\n",
       "      <td>...</td>\n",
       "      <td>-3.483038e+01</td>\n",
       "      <td>-1.093314e+01</td>\n",
       "      <td>-4.480774e+01</td>\n",
       "      <td>-2.836627e+00</td>\n",
       "      <td>-1.029540e+01</td>\n",
       "      <td>-2.604551e+00</td>\n",
       "      <td>-2.256568e+01</td>\n",
       "      <td>-1.543008e+01</td>\n",
       "      <td>0.000000</td>\n",
       "      <td>0.000000</td>\n",
       "    </tr>\n",
       "    <tr>\n",
       "      <th>25%</th>\n",
       "      <td>54201.500000</td>\n",
       "      <td>-9.203734e-01</td>\n",
       "      <td>-5.985499e-01</td>\n",
       "      <td>-8.903648e-01</td>\n",
       "      <td>-8.486401e-01</td>\n",
       "      <td>-6.915971e-01</td>\n",
       "      <td>-7.682956e-01</td>\n",
       "      <td>-5.540759e-01</td>\n",
       "      <td>-2.086297e-01</td>\n",
       "      <td>-6.430976e-01</td>\n",
       "      <td>...</td>\n",
       "      <td>-2.283949e-01</td>\n",
       "      <td>-5.423504e-01</td>\n",
       "      <td>-1.618463e-01</td>\n",
       "      <td>-3.545861e-01</td>\n",
       "      <td>-3.171451e-01</td>\n",
       "      <td>-3.269839e-01</td>\n",
       "      <td>-7.083953e-02</td>\n",
       "      <td>-5.295979e-02</td>\n",
       "      <td>5.600000</td>\n",
       "      <td>0.000000</td>\n",
       "    </tr>\n",
       "    <tr>\n",
       "      <th>50%</th>\n",
       "      <td>84692.000000</td>\n",
       "      <td>1.810880e-02</td>\n",
       "      <td>6.548556e-02</td>\n",
       "      <td>1.798463e-01</td>\n",
       "      <td>-1.984653e-02</td>\n",
       "      <td>-5.433583e-02</td>\n",
       "      <td>-2.741871e-01</td>\n",
       "      <td>4.010308e-02</td>\n",
       "      <td>2.235804e-02</td>\n",
       "      <td>-5.142873e-02</td>\n",
       "      <td>...</td>\n",
       "      <td>-2.945017e-02</td>\n",
       "      <td>6.781943e-03</td>\n",
       "      <td>-1.119293e-02</td>\n",
       "      <td>4.097606e-02</td>\n",
       "      <td>1.659350e-02</td>\n",
       "      <td>-5.213911e-02</td>\n",
       "      <td>1.342146e-03</td>\n",
       "      <td>1.124383e-02</td>\n",
       "      <td>22.000000</td>\n",
       "      <td>0.000000</td>\n",
       "    </tr>\n",
       "    <tr>\n",
       "      <th>75%</th>\n",
       "      <td>139320.500000</td>\n",
       "      <td>1.315642e+00</td>\n",
       "      <td>8.037239e-01</td>\n",
       "      <td>1.027196e+00</td>\n",
       "      <td>7.433413e-01</td>\n",
       "      <td>6.119264e-01</td>\n",
       "      <td>3.985649e-01</td>\n",
       "      <td>5.704361e-01</td>\n",
       "      <td>3.273459e-01</td>\n",
       "      <td>5.971390e-01</td>\n",
       "      <td>...</td>\n",
       "      <td>1.863772e-01</td>\n",
       "      <td>5.285536e-01</td>\n",
       "      <td>1.476421e-01</td>\n",
       "      <td>4.395266e-01</td>\n",
       "      <td>3.507156e-01</td>\n",
       "      <td>2.409522e-01</td>\n",
       "      <td>9.104512e-02</td>\n",
       "      <td>7.827995e-02</td>\n",
       "      <td>77.165000</td>\n",
       "      <td>0.000000</td>\n",
       "    </tr>\n",
       "    <tr>\n",
       "      <th>max</th>\n",
       "      <td>172792.000000</td>\n",
       "      <td>2.454930e+00</td>\n",
       "      <td>2.205773e+01</td>\n",
       "      <td>9.382558e+00</td>\n",
       "      <td>1.687534e+01</td>\n",
       "      <td>3.480167e+01</td>\n",
       "      <td>7.330163e+01</td>\n",
       "      <td>1.205895e+02</td>\n",
       "      <td>2.000721e+01</td>\n",
       "      <td>1.559499e+01</td>\n",
       "      <td>...</td>\n",
       "      <td>2.720284e+01</td>\n",
       "      <td>1.050309e+01</td>\n",
       "      <td>2.252841e+01</td>\n",
       "      <td>4.584549e+00</td>\n",
       "      <td>7.519589e+00</td>\n",
       "      <td>3.517346e+00</td>\n",
       "      <td>3.161220e+01</td>\n",
       "      <td>3.384781e+01</td>\n",
       "      <td>25691.160000</td>\n",
       "      <td>1.000000</td>\n",
       "    </tr>\n",
       "  </tbody>\n",
       "</table>\n",
       "<p>8 rows × 31 columns</p>\n",
       "</div>"
      ],
      "text/plain": [
       "                Time            V1            V2            V3            V4  \\\n",
       "count  284807.000000  2.848070e+05  2.848070e+05  2.848070e+05  2.848070e+05   \n",
       "mean    94813.859575  3.919560e-15  5.688174e-16 -8.769071e-15  2.782312e-15   \n",
       "std     47488.145955  1.958696e+00  1.651309e+00  1.516255e+00  1.415869e+00   \n",
       "min         0.000000 -5.640751e+01 -7.271573e+01 -4.832559e+01 -5.683171e+00   \n",
       "25%     54201.500000 -9.203734e-01 -5.985499e-01 -8.903648e-01 -8.486401e-01   \n",
       "50%     84692.000000  1.810880e-02  6.548556e-02  1.798463e-01 -1.984653e-02   \n",
       "75%    139320.500000  1.315642e+00  8.037239e-01  1.027196e+00  7.433413e-01   \n",
       "max    172792.000000  2.454930e+00  2.205773e+01  9.382558e+00  1.687534e+01   \n",
       "\n",
       "                 V5            V6            V7            V8            V9  \\\n",
       "count  2.848070e+05  2.848070e+05  2.848070e+05  2.848070e+05  2.848070e+05   \n",
       "mean  -1.552563e-15  2.010663e-15 -1.694249e-15 -1.927028e-16 -3.137024e-15   \n",
       "std    1.380247e+00  1.332271e+00  1.237094e+00  1.194353e+00  1.098632e+00   \n",
       "min   -1.137433e+02 -2.616051e+01 -4.355724e+01 -7.321672e+01 -1.343407e+01   \n",
       "25%   -6.915971e-01 -7.682956e-01 -5.540759e-01 -2.086297e-01 -6.430976e-01   \n",
       "50%   -5.433583e-02 -2.741871e-01  4.010308e-02  2.235804e-02 -5.142873e-02   \n",
       "75%    6.119264e-01  3.985649e-01  5.704361e-01  3.273459e-01  5.971390e-01   \n",
       "max    3.480167e+01  7.330163e+01  1.205895e+02  2.000721e+01  1.559499e+01   \n",
       "\n",
       "       ...           V21           V22           V23           V24  \\\n",
       "count  ...  2.848070e+05  2.848070e+05  2.848070e+05  2.848070e+05   \n",
       "mean   ...  1.537294e-16  7.959909e-16  5.367590e-16  4.458112e-15   \n",
       "std    ...  7.345240e-01  7.257016e-01  6.244603e-01  6.056471e-01   \n",
       "min    ... -3.483038e+01 -1.093314e+01 -4.480774e+01 -2.836627e+00   \n",
       "25%    ... -2.283949e-01 -5.423504e-01 -1.618463e-01 -3.545861e-01   \n",
       "50%    ... -2.945017e-02  6.781943e-03 -1.119293e-02  4.097606e-02   \n",
       "75%    ...  1.863772e-01  5.285536e-01  1.476421e-01  4.395266e-01   \n",
       "max    ...  2.720284e+01  1.050309e+01  2.252841e+01  4.584549e+00   \n",
       "\n",
       "                V25           V26           V27           V28         Amount  \\\n",
       "count  2.848070e+05  2.848070e+05  2.848070e+05  2.848070e+05  284807.000000   \n",
       "mean   1.453003e-15  1.699104e-15 -3.660161e-16 -1.206049e-16      88.349619   \n",
       "std    5.212781e-01  4.822270e-01  4.036325e-01  3.300833e-01     250.120109   \n",
       "min   -1.029540e+01 -2.604551e+00 -2.256568e+01 -1.543008e+01       0.000000   \n",
       "25%   -3.171451e-01 -3.269839e-01 -7.083953e-02 -5.295979e-02       5.600000   \n",
       "50%    1.659350e-02 -5.213911e-02  1.342146e-03  1.124383e-02      22.000000   \n",
       "75%    3.507156e-01  2.409522e-01  9.104512e-02  7.827995e-02      77.165000   \n",
       "max    7.519589e+00  3.517346e+00  3.161220e+01  3.384781e+01   25691.160000   \n",
       "\n",
       "               Class  \n",
       "count  284807.000000  \n",
       "mean        0.001727  \n",
       "std         0.041527  \n",
       "min         0.000000  \n",
       "25%         0.000000  \n",
       "50%         0.000000  \n",
       "75%         0.000000  \n",
       "max         1.000000  \n",
       "\n",
       "[8 rows x 31 columns]"
      ]
     },
     "execution_count": 9,
     "metadata": {},
     "output_type": "execute_result"
    }
   ],
   "source": [
    "#Let's look at the summary of the data\n",
    "transaction_data.describe()"
   ]
  },
  {
   "cell_type": "markdown",
   "metadata": {},
   "source": [
    "At first glance, we can easily see that features V1-28 have been transformed, as mentioned, using PCA. We can't really gather anything from them.<br>\n",
    "Also, looks like 'Amount' might turn out to be a parameter to predict outliers(frauds), as there is a huge difference between Maximum amount (25691.16) and Mean amount (88.349619). Let's check."
   ]
  },
  {
   "cell_type": "code",
   "execution_count": 10,
   "metadata": {},
   "outputs": [],
   "source": [
    "#Let's convert the time variable into hours from seconds before moving forward\n",
    "\n",
    "transaction_data['Time'] = transaction_data['Time']/3600"
   ]
  },
  {
   "cell_type": "code",
   "execution_count": 11,
   "metadata": {
    "scrolled": false
   },
   "outputs": [
    {
     "data": {
      "image/png": "[encoded data removed]",
      "text/plain": [
       "<Figure size 1080x288 with 2 Axes>"
      ]
     },
     "metadata": {
      "needs_background": "light"
     },
     "output_type": "display_data"
    }
   ],
   "source": [
    "#Distribution of Amount\n",
    "figure, a = plt.subplots(1, 2, figsize=(15, 4))\n",
    "amount = transaction_data['Amount'].values\n",
    "\n",
    "sns.boxplot(amount, ax = a[0])\n",
    "a[0].set_title('Distribution of Amount')\n",
    "\n",
    "fraud_df = transaction_data[transaction_data['Class']==1]\n",
    "amount_fraud = fraud_df['Amount'].values\n",
    "\n",
    "sns.boxplot(amount_fraud, ax = a[1])\n",
    "a[1].set_title('Distribution of Amount w.r.t. Fraud Transactions')\n",
    "#Keeping a similar scale as previous graph for comparison\n",
    "#a[1].set_xlim([min(amount), max(amount)])\n",
    "plt.show()"
   ]
  },
  {
   "cell_type": "markdown",
   "metadata": {},
   "source": [
    "As we can see, the outliers in *fraud transactions* are not very significantly high, as compared to the whole dataset. So amount doesn't really look like a direct predictor. "
   ]
  },
  {
   "cell_type": "code",
   "execution_count": 12,
   "metadata": {},
   "outputs": [
    {
     "data": {
      "image/png": "[encoded data removed]",
      "text/plain": [
       "<Figure size 1080x288 with 2 Axes>"
      ]
     },
     "metadata": {
      "needs_background": "light"
     },
     "output_type": "display_data"
    }
   ],
   "source": [
    "#Checking distribution with time\n",
    "\n",
    "figure, a = plt.subplots(1, 2, figsize=(15, 4))\n",
    "time = transaction_data['Time'].values\n",
    "\n",
    "sns.distplot(time, ax = a[0])\n",
    "a[0].set_title('Distribution of Transactions with Time')\n",
    "a[0].set_xlim([min(time), max(time)])\n",
    "#fraud_df_time = transaction_data[transaction_data['Class']==1]\n",
    "\n",
    "time_fraud = fraud_df['Time'].values\n",
    "\n",
    "sns.distplot(time_fraud, ax = a[1])\n",
    "a[1].set_title('Distribution with Time for Fraud Transactions')\n",
    "#Keeping a similar scale as previous graph for comparison\n",
    "a[1].set_xlim([min(time_fraud), max(time_fraud)])\n",
    "plt.show()"
   ]
  },
  {
   "cell_type": "markdown",
   "metadata": {},
   "source": [
    "From this visualisation, we can see that there is not much difference in the trend with time as well. Though an interesting thing to note will be the higher number of fraud transactions near the 10th hour. The total transactions are higher around the 20th hour. But we can't say for sure if this assumption is believable as data points for fraud transactions are too less."
   ]
  },
  {
   "cell_type": "markdown",
   "metadata": {},
   "source": [
    "It follows from this, that our analysis will be severely affected by the huge class imbalance that we have observed. Even during model building, our model might tend to overfit the data, and we might see very high accuracy scores. Hence, we will have to keep in mind the following things:\n",
    "\n",
    "- Dataset needs to be modified in a way, to provide some balance between both classes. We can generally do this through **Under Sampling or Over Sampling** the data.\n",
    "- Whichever model we use for prediction, we will have to use appropriate metrics to check our model performance, as simple scores such as Accuracy can be very misleading. Best approach would be to use Precision-Recall scores as well as **Area Under Precision-Recall Curve.**"
   ]
  },
  {
   "cell_type": "markdown",
   "metadata": {},
   "source": [
    "***"
   ]
  },
  {
   "cell_type": "markdown",
   "metadata": {},
   "source": [
    "#### Let's go ahead with data manipulation."
   ]
  },
  {
   "cell_type": "code",
   "execution_count": 13,
   "metadata": {},
   "outputs": [],
   "source": [
    "#Scaling time and amount values, as all other predictors are already scaled through PCA\n",
    "#Using min-max scaler for higher efficiency \n",
    "\n",
    "scaler = MinMaxScaler()\n",
    "transaction_data['Time'] = scaler.fit_transform(transaction_data[\"Time\"].values.reshape(-1,1))\n",
    "transaction_data['Amount'] = scaler.fit_transform(transaction_data[\"Amount\"].values.reshape(-1,1))"
   ]
  },
  {
   "cell_type": "code",
   "execution_count": 14,
   "metadata": {},
   "outputs": [
    {
     "data": {
      "text/html": [
       "<div>\n",
       "<style scoped>\n",
       "    .dataframe tbody tr th:only-of-type {\n",
       "        vertical-align: middle;\n",
       "    }\n",
       "\n",
       "    .dataframe tbody tr th {\n",
       "        vertical-align: top;\n",
       "    }\n",
       "\n",
       "    .dataframe thead th {\n",
       "        text-align: right;\n",
       "    }\n",
       "</style>\n",
       "<table border=\"1\" class=\"dataframe\">\n",
       "  <thead>\n",
       "    <tr style=\"text-align: right;\">\n",
       "      <th></th>\n",
       "      <th>Time</th>\n",
       "      <th>V1</th>\n",
       "      <th>V2</th>\n",
       "      <th>V3</th>\n",
       "      <th>V4</th>\n",
       "      <th>V5</th>\n",
       "      <th>V6</th>\n",
       "      <th>V7</th>\n",
       "      <th>V8</th>\n",
       "      <th>V9</th>\n",
       "      <th>...</th>\n",
       "      <th>V21</th>\n",
       "      <th>V22</th>\n",
       "      <th>V23</th>\n",
       "      <th>V24</th>\n",
       "      <th>V25</th>\n",
       "      <th>V26</th>\n",
       "      <th>V27</th>\n",
       "      <th>V28</th>\n",
       "      <th>Amount</th>\n",
       "      <th>Class</th>\n",
       "    </tr>\n",
       "  </thead>\n",
       "  <tbody>\n",
       "    <tr>\n",
       "      <th>0</th>\n",
       "      <td>0.000000</td>\n",
       "      <td>-1.359807</td>\n",
       "      <td>-0.072781</td>\n",
       "      <td>2.536347</td>\n",
       "      <td>1.378155</td>\n",
       "      <td>-0.338321</td>\n",
       "      <td>0.462388</td>\n",
       "      <td>0.239599</td>\n",
       "      <td>0.098698</td>\n",
       "      <td>0.363787</td>\n",
       "      <td>...</td>\n",
       "      <td>-0.018307</td>\n",
       "      <td>0.277838</td>\n",
       "      <td>-0.110474</td>\n",
       "      <td>0.066928</td>\n",
       "      <td>0.128539</td>\n",
       "      <td>-0.189115</td>\n",
       "      <td>0.133558</td>\n",
       "      <td>-0.021053</td>\n",
       "      <td>0.005824</td>\n",
       "      <td>0</td>\n",
       "    </tr>\n",
       "    <tr>\n",
       "      <th>1</th>\n",
       "      <td>0.000000</td>\n",
       "      <td>1.191857</td>\n",
       "      <td>0.266151</td>\n",
       "      <td>0.166480</td>\n",
       "      <td>0.448154</td>\n",
       "      <td>0.060018</td>\n",
       "      <td>-0.082361</td>\n",
       "      <td>-0.078803</td>\n",
       "      <td>0.085102</td>\n",
       "      <td>-0.255425</td>\n",
       "      <td>...</td>\n",
       "      <td>-0.225775</td>\n",
       "      <td>-0.638672</td>\n",
       "      <td>0.101288</td>\n",
       "      <td>-0.339846</td>\n",
       "      <td>0.167170</td>\n",
       "      <td>0.125895</td>\n",
       "      <td>-0.008983</td>\n",
       "      <td>0.014724</td>\n",
       "      <td>0.000105</td>\n",
       "      <td>0</td>\n",
       "    </tr>\n",
       "    <tr>\n",
       "      <th>2</th>\n",
       "      <td>0.000006</td>\n",
       "      <td>-1.358354</td>\n",
       "      <td>-1.340163</td>\n",
       "      <td>1.773209</td>\n",
       "      <td>0.379780</td>\n",
       "      <td>-0.503198</td>\n",
       "      <td>1.800499</td>\n",
       "      <td>0.791461</td>\n",
       "      <td>0.247676</td>\n",
       "      <td>-1.514654</td>\n",
       "      <td>...</td>\n",
       "      <td>0.247998</td>\n",
       "      <td>0.771679</td>\n",
       "      <td>0.909412</td>\n",
       "      <td>-0.689281</td>\n",
       "      <td>-0.327642</td>\n",
       "      <td>-0.139097</td>\n",
       "      <td>-0.055353</td>\n",
       "      <td>-0.059752</td>\n",
       "      <td>0.014739</td>\n",
       "      <td>0</td>\n",
       "    </tr>\n",
       "    <tr>\n",
       "      <th>3</th>\n",
       "      <td>0.000006</td>\n",
       "      <td>-0.966272</td>\n",
       "      <td>-0.185226</td>\n",
       "      <td>1.792993</td>\n",
       "      <td>-0.863291</td>\n",
       "      <td>-0.010309</td>\n",
       "      <td>1.247203</td>\n",
       "      <td>0.237609</td>\n",
       "      <td>0.377436</td>\n",
       "      <td>-1.387024</td>\n",
       "      <td>...</td>\n",
       "      <td>-0.108300</td>\n",
       "      <td>0.005274</td>\n",
       "      <td>-0.190321</td>\n",
       "      <td>-1.175575</td>\n",
       "      <td>0.647376</td>\n",
       "      <td>-0.221929</td>\n",
       "      <td>0.062723</td>\n",
       "      <td>0.061458</td>\n",
       "      <td>0.004807</td>\n",
       "      <td>0</td>\n",
       "    </tr>\n",
       "    <tr>\n",
       "      <th>4</th>\n",
       "      <td>0.000012</td>\n",
       "      <td>-1.158233</td>\n",
       "      <td>0.877737</td>\n",
       "      <td>1.548718</td>\n",
       "      <td>0.403034</td>\n",
       "      <td>-0.407193</td>\n",
       "      <td>0.095921</td>\n",
       "      <td>0.592941</td>\n",
       "      <td>-0.270533</td>\n",
       "      <td>0.817739</td>\n",
       "      <td>...</td>\n",
       "      <td>-0.009431</td>\n",
       "      <td>0.798278</td>\n",
       "      <td>-0.137458</td>\n",
       "      <td>0.141267</td>\n",
       "      <td>-0.206010</td>\n",
       "      <td>0.502292</td>\n",
       "      <td>0.219422</td>\n",
       "      <td>0.215153</td>\n",
       "      <td>0.002724</td>\n",
       "      <td>0</td>\n",
       "    </tr>\n",
       "  </tbody>\n",
       "</table>\n",
       "<p>5 rows × 31 columns</p>\n",
       "</div>"
      ],
      "text/plain": [
       "       Time        V1        V2        V3        V4        V5        V6  \\\n",
       "0  0.000000 -1.359807 -0.072781  2.536347  1.378155 -0.338321  0.462388   \n",
       "1  0.000000  1.191857  0.266151  0.166480  0.448154  0.060018 -0.082361   \n",
       "2  0.000006 -1.358354 -1.340163  1.773209  0.379780 -0.503198  1.800499   \n",
       "3  0.000006 -0.966272 -0.185226  1.792993 -0.863291 -0.010309  1.247203   \n",
       "4  0.000012 -1.158233  0.877737  1.548718  0.403034 -0.407193  0.095921   \n",
       "\n",
       "         V7        V8        V9  ...       V21       V22       V23       V24  \\\n",
       "0  0.239599  0.098698  0.363787  ... -0.018307  0.277838 -0.110474  0.066928   \n",
       "1 -0.078803  0.085102 -0.255425  ... -0.225775 -0.638672  0.101288 -0.339846   \n",
       "2  0.791461  0.247676 -1.514654  ...  0.247998  0.771679  0.909412 -0.689281   \n",
       "3  0.237609  0.377436 -1.387024  ... -0.108300  0.005274 -0.190321 -1.175575   \n",
       "4  0.592941 -0.270533  0.817739  ... -0.009431  0.798278 -0.137458  0.141267   \n",
       "\n",
       "        V25       V26       V27       V28    Amount  Class  \n",
       "0  0.128539 -0.189115  0.133558 -0.021053  0.005824      0  \n",
       "1  0.167170  0.125895 -0.008983  0.014724  0.000105      0  \n",
       "2 -0.327642 -0.139097 -0.055353 -0.059752  0.014739      0  \n",
       "3  0.647376 -0.221929  0.062723  0.061458  0.004807      0  \n",
       "4 -0.206010  0.502292  0.219422  0.215153  0.002724      0  \n",
       "\n",
       "[5 rows x 31 columns]"
      ]
     },
     "metadata": {},
     "output_type": "display_data"
    }
   ],
   "source": [
    "display(transaction_data.head())"
   ]
  },
  {
   "cell_type": "markdown",
   "metadata": {},
   "source": [
    "Now, coming to the first problem of class imbalance, let's go forward with a technique called SMOTE, or Synthetic Minority Oversampling Technique. As the name suggests, it is an oversampling technique which will increase the minority class data points in proportion to the majority class.<br>\n",
    "\n",
    "It should be noted that we are not going with UnderSampling, as it poses the risk of losing out on important information. With SMOTE (oversampling), more information is available."
   ]
  },
  {
   "cell_type": "code",
   "execution_count": 15,
   "metadata": {},
   "outputs": [
    {
     "data": {
      "text/html": [
       "<div>\n",
       "<style scoped>\n",
       "    .dataframe tbody tr th:only-of-type {\n",
       "        vertical-align: middle;\n",
       "    }\n",
       "\n",
       "    .dataframe tbody tr th {\n",
       "        vertical-align: top;\n",
       "    }\n",
       "\n",
       "    .dataframe thead th {\n",
       "        text-align: right;\n",
       "    }\n",
       "</style>\n",
       "<table border=\"1\" class=\"dataframe\">\n",
       "  <thead>\n",
       "    <tr style=\"text-align: right;\">\n",
       "      <th></th>\n",
       "      <th>Time</th>\n",
       "      <th>V1</th>\n",
       "      <th>V2</th>\n",
       "      <th>V3</th>\n",
       "      <th>V4</th>\n",
       "      <th>V5</th>\n",
       "      <th>V6</th>\n",
       "      <th>V7</th>\n",
       "      <th>V8</th>\n",
       "      <th>V9</th>\n",
       "      <th>...</th>\n",
       "      <th>V20</th>\n",
       "      <th>V21</th>\n",
       "      <th>V22</th>\n",
       "      <th>V23</th>\n",
       "      <th>V24</th>\n",
       "      <th>V25</th>\n",
       "      <th>V26</th>\n",
       "      <th>V27</th>\n",
       "      <th>V28</th>\n",
       "      <th>Amount</th>\n",
       "    </tr>\n",
       "  </thead>\n",
       "  <tbody>\n",
       "    <tr>\n",
       "      <th>0</th>\n",
       "      <td>0.000000</td>\n",
       "      <td>-1.359807</td>\n",
       "      <td>-0.072781</td>\n",
       "      <td>2.536347</td>\n",
       "      <td>1.378155</td>\n",
       "      <td>-0.338321</td>\n",
       "      <td>0.462388</td>\n",
       "      <td>0.239599</td>\n",
       "      <td>0.098698</td>\n",
       "      <td>0.363787</td>\n",
       "      <td>...</td>\n",
       "      <td>0.251412</td>\n",
       "      <td>-0.018307</td>\n",
       "      <td>0.277838</td>\n",
       "      <td>-0.110474</td>\n",
       "      <td>0.066928</td>\n",
       "      <td>0.128539</td>\n",
       "      <td>-0.189115</td>\n",
       "      <td>0.133558</td>\n",
       "      <td>-0.021053</td>\n",
       "      <td>0.005824</td>\n",
       "    </tr>\n",
       "    <tr>\n",
       "      <th>1</th>\n",
       "      <td>0.000000</td>\n",
       "      <td>1.191857</td>\n",
       "      <td>0.266151</td>\n",
       "      <td>0.166480</td>\n",
       "      <td>0.448154</td>\n",
       "      <td>0.060018</td>\n",
       "      <td>-0.082361</td>\n",
       "      <td>-0.078803</td>\n",
       "      <td>0.085102</td>\n",
       "      <td>-0.255425</td>\n",
       "      <td>...</td>\n",
       "      <td>-0.069083</td>\n",
       "      <td>-0.225775</td>\n",
       "      <td>-0.638672</td>\n",
       "      <td>0.101288</td>\n",
       "      <td>-0.339846</td>\n",
       "      <td>0.167170</td>\n",
       "      <td>0.125895</td>\n",
       "      <td>-0.008983</td>\n",
       "      <td>0.014724</td>\n",
       "      <td>0.000105</td>\n",
       "    </tr>\n",
       "    <tr>\n",
       "      <th>2</th>\n",
       "      <td>0.000006</td>\n",
       "      <td>-1.358354</td>\n",
       "      <td>-1.340163</td>\n",
       "      <td>1.773209</td>\n",
       "      <td>0.379780</td>\n",
       "      <td>-0.503198</td>\n",
       "      <td>1.800499</td>\n",
       "      <td>0.791461</td>\n",
       "      <td>0.247676</td>\n",
       "      <td>-1.514654</td>\n",
       "      <td>...</td>\n",
       "      <td>0.524980</td>\n",
       "      <td>0.247998</td>\n",
       "      <td>0.771679</td>\n",
       "      <td>0.909412</td>\n",
       "      <td>-0.689281</td>\n",
       "      <td>-0.327642</td>\n",
       "      <td>-0.139097</td>\n",
       "      <td>-0.055353</td>\n",
       "      <td>-0.059752</td>\n",
       "      <td>0.014739</td>\n",
       "    </tr>\n",
       "    <tr>\n",
       "      <th>3</th>\n",
       "      <td>0.000006</td>\n",
       "      <td>-0.966272</td>\n",
       "      <td>-0.185226</td>\n",
       "      <td>1.792993</td>\n",
       "      <td>-0.863291</td>\n",
       "      <td>-0.010309</td>\n",
       "      <td>1.247203</td>\n",
       "      <td>0.237609</td>\n",
       "      <td>0.377436</td>\n",
       "      <td>-1.387024</td>\n",
       "      <td>...</td>\n",
       "      <td>-0.208038</td>\n",
       "      <td>-0.108300</td>\n",
       "      <td>0.005274</td>\n",
       "      <td>-0.190321</td>\n",
       "      <td>-1.175575</td>\n",
       "      <td>0.647376</td>\n",
       "      <td>-0.221929</td>\n",
       "      <td>0.062723</td>\n",
       "      <td>0.061458</td>\n",
       "      <td>0.004807</td>\n",
       "    </tr>\n",
       "    <tr>\n",
       "      <th>4</th>\n",
       "      <td>0.000012</td>\n",
       "      <td>-1.158233</td>\n",
       "      <td>0.877737</td>\n",
       "      <td>1.548718</td>\n",
       "      <td>0.403034</td>\n",
       "      <td>-0.407193</td>\n",
       "      <td>0.095921</td>\n",
       "      <td>0.592941</td>\n",
       "      <td>-0.270533</td>\n",
       "      <td>0.817739</td>\n",
       "      <td>...</td>\n",
       "      <td>0.408542</td>\n",
       "      <td>-0.009431</td>\n",
       "      <td>0.798278</td>\n",
       "      <td>-0.137458</td>\n",
       "      <td>0.141267</td>\n",
       "      <td>-0.206010</td>\n",
       "      <td>0.502292</td>\n",
       "      <td>0.219422</td>\n",
       "      <td>0.215153</td>\n",
       "      <td>0.002724</td>\n",
       "    </tr>\n",
       "  </tbody>\n",
       "</table>\n",
       "<p>5 rows × 30 columns</p>\n",
       "</div>"
      ],
      "text/plain": [
       "       Time        V1        V2        V3        V4        V5        V6  \\\n",
       "0  0.000000 -1.359807 -0.072781  2.536347  1.378155 -0.338321  0.462388   \n",
       "1  0.000000  1.191857  0.266151  0.166480  0.448154  0.060018 -0.082361   \n",
       "2  0.000006 -1.358354 -1.340163  1.773209  0.379780 -0.503198  1.800499   \n",
       "3  0.000006 -0.966272 -0.185226  1.792993 -0.863291 -0.010309  1.247203   \n",
       "4  0.000012 -1.158233  0.877737  1.548718  0.403034 -0.407193  0.095921   \n",
       "\n",
       "         V7        V8        V9  ...       V20       V21       V22       V23  \\\n",
       "0  0.239599  0.098698  0.363787  ...  0.251412 -0.018307  0.277838 -0.110474   \n",
       "1 -0.078803  0.085102 -0.255425  ... -0.069083 -0.225775 -0.638672  0.101288   \n",
       "2  0.791461  0.247676 -1.514654  ...  0.524980  0.247998  0.771679  0.909412   \n",
       "3  0.237609  0.377436 -1.387024  ... -0.208038 -0.108300  0.005274 -0.190321   \n",
       "4  0.592941 -0.270533  0.817739  ...  0.408542 -0.009431  0.798278 -0.137458   \n",
       "\n",
       "        V24       V25       V26       V27       V28    Amount  \n",
       "0  0.066928  0.128539 -0.189115  0.133558 -0.021053  0.005824  \n",
       "1 -0.339846  0.167170  0.125895 -0.008983  0.014724  0.000105  \n",
       "2 -0.689281 -0.327642 -0.139097 -0.055353 -0.059752  0.014739  \n",
       "3 -1.175575  0.647376 -0.221929  0.062723  0.061458  0.004807  \n",
       "4  0.141267 -0.206010  0.502292  0.219422  0.215153  0.002724  \n",
       "\n",
       "[5 rows x 30 columns]"
      ]
     },
     "metadata": {},
     "output_type": "display_data"
    },
    {
     "name": "stdout",
     "output_type": "stream",
     "text": [
      "Dataset dimension : (284807, 30)\n",
      "Labels dimension : (284807,)\n"
     ]
    }
   ],
   "source": [
    "#Splitting into values and class labels \n",
    "target = 'Class'\n",
    "labels = transaction_data[target]\n",
    "values = transaction_data.copy()\n",
    "values = values.drop('Class', axis =1 )\n",
    "display(values.head())\n",
    "print(\"Dataset dimension :\", values.shape)\n",
    "print(\"Labels dimension :\", labels.shape)"
   ]
  },
  {
   "cell_type": "markdown",
   "metadata": {},
   "source": [
    "Before applying any sampling technique, it should be remembered that we are going to fit our model, using the *sampled training set*, but we will be predicting using only the *original test set*. So we will have to split the data into training and testing sets, before we can apply any sort of sampling."
   ]
  },
  {
   "cell_type": "markdown",
   "metadata": {},
   "source": [
    "Also, I wish to use SelectKBest algorithm, to use the best features for classification. But since as of now, there is a huge class imbalance, the same will be represented through SelectKBest. So I will use it, after oversampling my dataset."
   ]
  },
  {
   "cell_type": "code",
   "execution_count": 16,
   "metadata": {},
   "outputs": [
    {
     "name": "stdout",
     "output_type": "stream",
     "text": [
      "Percentage of Fraud Transactions in Training Set using Stratified Shuffle Split: 0.1728 %\n",
      "Percentage of Fraud Transactions in Training Set using Stratified KFold: 0.1728 %\n"
     ]
    }
   ],
   "source": [
    "# We can use Stratified Shuffle Split or StratifiedKFold\n",
    "strat_split = StratifiedShuffleSplit(n_splits=10, random_state=42)\n",
    "for train_index, test_index in strat_split.split(values, labels):\n",
    "    values_train, values_test = values.iloc[train_index], values.iloc[test_index]\n",
    "    labels_train, labels_test = labels.iloc[train_index], labels.iloc[test_index]\n",
    "print(\"Percentage of Fraud Transactions in Training Set using Stratified Shuffle Split:\", \n",
    "      round(labels_train.value_counts()[1]/len(labels_train)*100, 4), \"%\")\n",
    "\n",
    "kfold_split = StratifiedKFold(n_splits=10, random_state=47)\n",
    "for train_index, test_index in kfold_split.split(values, labels):\n",
    "    values_train1, values_test1 = values.iloc[train_index], values.iloc[test_index]\n",
    "    labels_train1, labels_test1 = labels.iloc[train_index], labels.iloc[test_index]\n",
    "print(\"Percentage of Fraud Transactions in Training Set using Stratified KFold:\", \n",
    "      round(labels_train1.value_counts()[1]/len(labels_train1)*100, 4), \"%\")\n"
   ]
  },
  {
   "cell_type": "markdown",
   "metadata": {},
   "source": [
    "We are getting similar results with both. Basically, our class imbalance percentage is maintained in our training sets, for both the cases. We will go ahead with StratifiedShuffleSplit.<br>"
   ]
  },
  {
   "cell_type": "code",
   "execution_count": 17,
   "metadata": {},
   "outputs": [
    {
     "name": "stdout",
     "output_type": "stream",
     "text": [
      "Dimensions of Oversampled dataset is : (511766, 30)\n"
     ]
    },
    {
     "data": {
      "image/png": "[encoded data removed]",
      "text/plain": [
       "<Figure size 360x360 with 1 Axes>"
      ]
     },
     "metadata": {
      "needs_background": "light"
     },
     "output_type": "display_data"
    }
   ],
   "source": [
    "#Applying SMOTE on the training dataset\n",
    "smote = SMOTE(sampling_strategy='minority', random_state=47)\n",
    "os_values, os_labels = smote.fit_sample(values_train, labels_train)\n",
    "\n",
    "os_values = pd.DataFrame(os_values)\n",
    "os_labels = pd.DataFrame(os_labels)\n",
    "\n",
    "plt.figure(figsize=(5, 5))\n",
    "sns.countplot(data = os_labels, x = 0 )\n",
    "plt.title(\"Distribution of Oversampled Training Set\")\n",
    "plt.xlabel(\"Fraud\")\n",
    "\n",
    "\n",
    "print(\"Dimensions of Oversampled dataset is :\", os_values.shape)"
   ]
  },
  {
   "cell_type": "markdown",
   "metadata": {},
   "source": [
    "Now, since our dataset is equally balanced, let's apply selectKbest for attaining the best features as per feature scores.<br> Note that we will be using SKB on the oversampled dataset, as that is the one which will be used to fit the model. Hence, transforming the complete dataset would be unneccesary."
   ]
  },
  {
   "cell_type": "code",
   "execution_count": 18,
   "metadata": {},
   "outputs": [
    {
     "data": {
      "text/html": [
       "<div>\n",
       "<style scoped>\n",
       "    .dataframe tbody tr th:only-of-type {\n",
       "        vertical-align: middle;\n",
       "    }\n",
       "\n",
       "    .dataframe tbody tr th {\n",
       "        vertical-align: top;\n",
       "    }\n",
       "\n",
       "    .dataframe thead th {\n",
       "        text-align: right;\n",
       "    }\n",
       "</style>\n",
       "<table border=\"1\" class=\"dataframe\">\n",
       "  <thead>\n",
       "    <tr style=\"text-align: right;\">\n",
       "      <th></th>\n",
       "      <th>0</th>\n",
       "      <th>1</th>\n",
       "      <th>2</th>\n",
       "      <th>3</th>\n",
       "      <th>4</th>\n",
       "      <th>5</th>\n",
       "      <th>6</th>\n",
       "      <th>7</th>\n",
       "      <th>8</th>\n",
       "      <th>9</th>\n",
       "      <th>10</th>\n",
       "      <th>11</th>\n",
       "      <th>12</th>\n",
       "      <th>13</th>\n",
       "      <th>14</th>\n",
       "    </tr>\n",
       "  </thead>\n",
       "  <tbody>\n",
       "    <tr>\n",
       "      <th>0</th>\n",
       "      <td>-1.380790</td>\n",
       "      <td>1.460168</td>\n",
       "      <td>0.515471</td>\n",
       "      <td>-0.980070</td>\n",
       "      <td>0.103284</td>\n",
       "      <td>-0.487704</td>\n",
       "      <td>0.292950</td>\n",
       "      <td>0.831434</td>\n",
       "      <td>-1.096086</td>\n",
       "      <td>-0.443396</td>\n",
       "      <td>-2.077925</td>\n",
       "      <td>1.551339</td>\n",
       "      <td>0.780154</td>\n",
       "      <td>-0.069862</td>\n",
       "      <td>0.096838</td>\n",
       "    </tr>\n",
       "    <tr>\n",
       "      <th>1</th>\n",
       "      <td>2.073777</td>\n",
       "      <td>-0.117676</td>\n",
       "      <td>-1.487208</td>\n",
       "      <td>0.180482</td>\n",
       "      <td>0.144397</td>\n",
       "      <td>-0.848272</td>\n",
       "      <td>0.074330</td>\n",
       "      <td>0.921508</td>\n",
       "      <td>-0.074776</td>\n",
       "      <td>-0.909714</td>\n",
       "      <td>-0.291464</td>\n",
       "      <td>0.700905</td>\n",
       "      <td>-0.262352</td>\n",
       "      <td>-0.441265</td>\n",
       "      <td>0.170300</td>\n",
       "    </tr>\n",
       "    <tr>\n",
       "      <th>2</th>\n",
       "      <td>-1.536340</td>\n",
       "      <td>1.208131</td>\n",
       "      <td>1.346005</td>\n",
       "      <td>-0.098262</td>\n",
       "      <td>-0.147758</td>\n",
       "      <td>-0.261898</td>\n",
       "      <td>0.052810</td>\n",
       "      <td>-0.327872</td>\n",
       "      <td>-0.231221</td>\n",
       "      <td>1.286872</td>\n",
       "      <td>0.717841</td>\n",
       "      <td>0.623768</td>\n",
       "      <td>0.500324</td>\n",
       "      <td>-0.552090</td>\n",
       "      <td>-0.051076</td>\n",
       "    </tr>\n",
       "    <tr>\n",
       "      <th>3</th>\n",
       "      <td>1.005790</td>\n",
       "      <td>-0.852530</td>\n",
       "      <td>0.673332</td>\n",
       "      <td>0.042750</td>\n",
       "      <td>-0.930858</td>\n",
       "      <td>0.424797</td>\n",
       "      <td>-0.678517</td>\n",
       "      <td>1.118410</td>\n",
       "      <td>-0.309838</td>\n",
       "      <td>0.022151</td>\n",
       "      <td>0.543723</td>\n",
       "      <td>-0.212666</td>\n",
       "      <td>0.371656</td>\n",
       "      <td>-0.353939</td>\n",
       "      <td>0.252997</td>\n",
       "    </tr>\n",
       "    <tr>\n",
       "      <th>4</th>\n",
       "      <td>1.303873</td>\n",
       "      <td>0.538389</td>\n",
       "      <td>-0.249810</td>\n",
       "      <td>1.016667</td>\n",
       "      <td>0.266583</td>\n",
       "      <td>-0.974172</td>\n",
       "      <td>0.585286</td>\n",
       "      <td>-0.346978</td>\n",
       "      <td>0.028289</td>\n",
       "      <td>-0.578289</td>\n",
       "      <td>0.423826</td>\n",
       "      <td>0.420161</td>\n",
       "      <td>-0.141157</td>\n",
       "      <td>-0.478183</td>\n",
       "      <td>-0.328568</td>\n",
       "    </tr>\n",
       "  </tbody>\n",
       "</table>\n",
       "</div>"
      ],
      "text/plain": [
       "          0         1         2         3         4         5         6  \\\n",
       "0 -1.380790  1.460168  0.515471 -0.980070  0.103284 -0.487704  0.292950   \n",
       "1  2.073777 -0.117676 -1.487208  0.180482  0.144397 -0.848272  0.074330   \n",
       "2 -1.536340  1.208131  1.346005 -0.098262 -0.147758 -0.261898  0.052810   \n",
       "3  1.005790 -0.852530  0.673332  0.042750 -0.930858  0.424797 -0.678517   \n",
       "4  1.303873  0.538389 -0.249810  1.016667  0.266583 -0.974172  0.585286   \n",
       "\n",
       "          7         8         9        10        11        12        13  \\\n",
       "0  0.831434 -1.096086 -0.443396 -2.077925  1.551339  0.780154 -0.069862   \n",
       "1  0.921508 -0.074776 -0.909714 -0.291464  0.700905 -0.262352 -0.441265   \n",
       "2 -0.327872 -0.231221  1.286872  0.717841  0.623768  0.500324 -0.552090   \n",
       "3  1.118410 -0.309838  0.022151  0.543723 -0.212666  0.371656 -0.353939   \n",
       "4 -0.346978  0.028289 -0.578289  0.423826  0.420161 -0.141157 -0.478183   \n",
       "\n",
       "         14  \n",
       "0  0.096838  \n",
       "1  0.170300  \n",
       "2 -0.051076  \n",
       "3  0.252997  \n",
       "4 -0.328568  "
      ]
     },
     "metadata": {},
     "output_type": "display_data"
    }
   ],
   "source": [
    "#SelectKBest on our oversampled training dataset\n",
    "os_values_skb = os_values.copy()\n",
    "skb = SelectKBest(k=15)\n",
    "os_values_skb = skb.fit_transform(os_values_skb, os_labels[0].ravel())\n",
    "display(pd.DataFrame(os_values_skb).head())"
   ]
  },
  {
   "cell_type": "code",
   "execution_count": 19,
   "metadata": {
    "scrolled": true
   },
   "outputs": [
    {
     "name": "stdout",
     "output_type": "stream",
     "text": [
      "30\n",
      "Feature Scores:\n",
      "\n",
      "[('V14', 695401.5633160885),\n",
      " ('V4', 529748.7509203275),\n",
      " ('V11', 482715.0595605994),\n",
      " ('V12', 444424.65101446427),\n",
      " ('V10', 347989.8052745692),\n",
      " ('V16', 269725.01223687216),\n",
      " ('V9', 256199.601567696),\n",
      " ('V3', 233339.84445053834),\n",
      " ('V17', 229324.54653325584),\n",
      " ('V2', 176291.53072087196),\n",
      " ('V7', 149597.19511518668),\n",
      " ('V18', 137352.2024742917),\n",
      " ('V6', 115768.7371066314),\n",
      " ('V1', 110785.46638877272),\n",
      " ('V5', 86144.5279419894)]\n"
     ]
    }
   ],
   "source": [
    "# Getting feature scores from SelectKBest after fitting\n",
    "feature_list = values.columns\n",
    "unsorted_list = zip(feature_list, skb.scores_)\n",
    "\n",
    "sorted_features = sorted(unsorted_list, key=lambda x: x[1], reverse=True)\n",
    "print(len(sorted_features))\n",
    "print(\"Feature Scores:\\n\")\n",
    "pprint(sorted_features[:15])"
   ]
  },
  {
   "cell_type": "code",
   "execution_count": 20,
   "metadata": {},
   "outputs": [
    {
     "name": "stdout",
     "output_type": "stream",
     "text": [
      "['V14', 'V4', 'V11', 'V12', 'V10', 'V16', 'V9', 'V3', 'V17', 'V2', 'V7', 'V18', 'V6', 'V1', 'V5']\n"
     ]
    },
    {
     "data": {
      "text/html": [
       "<div>\n",
       "<style scoped>\n",
       "    .dataframe tbody tr th:only-of-type {\n",
       "        vertical-align: middle;\n",
       "    }\n",
       "\n",
       "    .dataframe tbody tr th {\n",
       "        vertical-align: top;\n",
       "    }\n",
       "\n",
       "    .dataframe thead th {\n",
       "        text-align: right;\n",
       "    }\n",
       "</style>\n",
       "<table border=\"1\" class=\"dataframe\">\n",
       "  <thead>\n",
       "    <tr style=\"text-align: right;\">\n",
       "      <th></th>\n",
       "      <th>Time</th>\n",
       "      <th>V1</th>\n",
       "      <th>V2</th>\n",
       "      <th>V3</th>\n",
       "      <th>V4</th>\n",
       "      <th>V5</th>\n",
       "      <th>V6</th>\n",
       "      <th>V7</th>\n",
       "      <th>V8</th>\n",
       "      <th>V9</th>\n",
       "      <th>...</th>\n",
       "      <th>V20</th>\n",
       "      <th>V21</th>\n",
       "      <th>V22</th>\n",
       "      <th>V23</th>\n",
       "      <th>V24</th>\n",
       "      <th>V25</th>\n",
       "      <th>V26</th>\n",
       "      <th>V27</th>\n",
       "      <th>V28</th>\n",
       "      <th>Amount</th>\n",
       "    </tr>\n",
       "  </thead>\n",
       "  <tbody>\n",
       "    <tr>\n",
       "      <th>187452</th>\n",
       "      <td>0.738119</td>\n",
       "      <td>1.916118</td>\n",
       "      <td>-1.054471</td>\n",
       "      <td>-2.204962</td>\n",
       "      <td>-0.564104</td>\n",
       "      <td>0.342751</td>\n",
       "      <td>0.178114</td>\n",
       "      <td>0.033599</td>\n",
       "      <td>-0.242228</td>\n",
       "      <td>-0.746888</td>\n",
       "      <td>...</td>\n",
       "      <td>-0.180662</td>\n",
       "      <td>0.093706</td>\n",
       "      <td>0.643539</td>\n",
       "      <td>-0.342013</td>\n",
       "      <td>-0.273780</td>\n",
       "      <td>0.555610</td>\n",
       "      <td>0.106861</td>\n",
       "      <td>-0.031833</td>\n",
       "      <td>-0.045836</td>\n",
       "      <td>0.006462</td>\n",
       "    </tr>\n",
       "    <tr>\n",
       "      <th>110013</th>\n",
       "      <td>0.414614</td>\n",
       "      <td>0.957414</td>\n",
       "      <td>0.040111</td>\n",
       "      <td>0.351312</td>\n",
       "      <td>1.175282</td>\n",
       "      <td>-0.214718</td>\n",
       "      <td>-0.300366</td>\n",
       "      <td>0.225456</td>\n",
       "      <td>0.066156</td>\n",
       "      <td>-0.361456</td>\n",
       "      <td>...</td>\n",
       "      <td>-0.034730</td>\n",
       "      <td>-0.333800</td>\n",
       "      <td>-1.255362</td>\n",
       "      <td>0.197831</td>\n",
       "      <td>0.123161</td>\n",
       "      <td>0.063890</td>\n",
       "      <td>-0.843956</td>\n",
       "      <td>0.002473</td>\n",
       "      <td>0.032112</td>\n",
       "      <td>0.003697</td>\n",
       "    </tr>\n",
       "    <tr>\n",
       "      <th>70141</th>\n",
       "      <td>0.310935</td>\n",
       "      <td>-1.649279</td>\n",
       "      <td>1.263974</td>\n",
       "      <td>-1.050826</td>\n",
       "      <td>2.237991</td>\n",
       "      <td>-2.527889</td>\n",
       "      <td>-0.889940</td>\n",
       "      <td>-2.355254</td>\n",
       "      <td>0.854659</td>\n",
       "      <td>-1.281243</td>\n",
       "      <td>...</td>\n",
       "      <td>0.087406</td>\n",
       "      <td>0.679176</td>\n",
       "      <td>0.731907</td>\n",
       "      <td>0.333045</td>\n",
       "      <td>0.392505</td>\n",
       "      <td>-0.274197</td>\n",
       "      <td>0.802349</td>\n",
       "      <td>0.390809</td>\n",
       "      <td>0.112146</td>\n",
       "      <td>0.004377</td>\n",
       "    </tr>\n",
       "    <tr>\n",
       "      <th>15463</th>\n",
       "      <td>0.155383</td>\n",
       "      <td>-2.693420</td>\n",
       "      <td>2.337264</td>\n",
       "      <td>-0.303612</td>\n",
       "      <td>2.352796</td>\n",
       "      <td>0.091536</td>\n",
       "      <td>-0.544235</td>\n",
       "      <td>1.281668</td>\n",
       "      <td>-0.459579</td>\n",
       "      <td>0.769469</td>\n",
       "      <td>...</td>\n",
       "      <td>1.263153</td>\n",
       "      <td>-0.403418</td>\n",
       "      <td>0.522401</td>\n",
       "      <td>-0.136038</td>\n",
       "      <td>0.515889</td>\n",
       "      <td>-0.678903</td>\n",
       "      <td>0.004672</td>\n",
       "      <td>0.717001</td>\n",
       "      <td>0.307317</td>\n",
       "      <td>0.002190</td>\n",
       "    </tr>\n",
       "    <tr>\n",
       "      <th>72476</th>\n",
       "      <td>0.316699</td>\n",
       "      <td>0.683389</td>\n",
       "      <td>-0.940750</td>\n",
       "      <td>-0.032823</td>\n",
       "      <td>0.352668</td>\n",
       "      <td>-0.898172</td>\n",
       "      <td>-1.047873</td>\n",
       "      <td>0.440964</td>\n",
       "      <td>-0.293963</td>\n",
       "      <td>0.178112</td>\n",
       "      <td>...</td>\n",
       "      <td>0.533982</td>\n",
       "      <td>-0.045068</td>\n",
       "      <td>-0.877869</td>\n",
       "      <td>-0.160987</td>\n",
       "      <td>0.432490</td>\n",
       "      <td>0.041511</td>\n",
       "      <td>0.783159</td>\n",
       "      <td>-0.148393</td>\n",
       "      <td>0.058986</td>\n",
       "      <td>0.012417</td>\n",
       "    </tr>\n",
       "  </tbody>\n",
       "</table>\n",
       "<p>5 rows × 30 columns</p>\n",
       "</div>"
      ],
      "text/plain": [
       "            Time        V1        V2        V3        V4        V5        V6  \\\n",
       "187452  0.738119  1.916118 -1.054471 -2.204962 -0.564104  0.342751  0.178114   \n",
       "110013  0.414614  0.957414  0.040111  0.351312  1.175282 -0.214718 -0.300366   \n",
       "70141   0.310935 -1.649279  1.263974 -1.050826  2.237991 -2.527889 -0.889940   \n",
       "15463   0.155383 -2.693420  2.337264 -0.303612  2.352796  0.091536 -0.544235   \n",
       "72476   0.316699  0.683389 -0.940750 -0.032823  0.352668 -0.898172 -1.047873   \n",
       "\n",
       "              V7        V8        V9  ...       V20       V21       V22  \\\n",
       "187452  0.033599 -0.242228 -0.746888  ... -0.180662  0.093706  0.643539   \n",
       "110013  0.225456  0.066156 -0.361456  ... -0.034730 -0.333800 -1.255362   \n",
       "70141  -2.355254  0.854659 -1.281243  ...  0.087406  0.679176  0.731907   \n",
       "15463   1.281668 -0.459579  0.769469  ...  1.263153 -0.403418  0.522401   \n",
       "72476   0.440964 -0.293963  0.178112  ...  0.533982 -0.045068 -0.877869   \n",
       "\n",
       "             V23       V24       V25       V26       V27       V28    Amount  \n",
       "187452 -0.342013 -0.273780  0.555610  0.106861 -0.031833 -0.045836  0.006462  \n",
       "110013  0.197831  0.123161  0.063890 -0.843956  0.002473  0.032112  0.003697  \n",
       "70141   0.333045  0.392505 -0.274197  0.802349  0.390809  0.112146  0.004377  \n",
       "15463  -0.136038  0.515889 -0.678903  0.004672  0.717001  0.307317  0.002190  \n",
       "72476  -0.160987  0.432490  0.041511  0.783159 -0.148393  0.058986  0.012417  \n",
       "\n",
       "[5 rows x 30 columns]"
      ]
     },
     "metadata": {},
     "output_type": "display_data"
    }
   ],
   "source": [
    "selected_features = [i[0] for i in sorted_features[:15]]\n",
    "print(selected_features)\n",
    "#Transforming test according to Feature Selection\n",
    "\n",
    "#values_test = values_test[selected_features]\n",
    "os_values_skb = os_values.copy()\n",
    "display(values_test.head())"
   ]
  },
  {
   "cell_type": "markdown",
   "metadata": {},
   "source": [
    "Unfortunately, after testing SelectKBest, our predictions were getting only worse, so we will not be using SelectKBest. For model building purpose, all features will be used, as is."
   ]
  },
  {
   "cell_type": "markdown",
   "metadata": {},
   "source": [
    "***\n",
    "#### Model Building\n",
    "Let's now test this oversampled dataset on a basic Logistic Regression model, as this is a binary classification problem"
   ]
  },
  {
   "cell_type": "code",
   "execution_count": 21,
   "metadata": {},
   "outputs": [
    {
     "name": "stderr",
     "output_type": "stream",
     "text": [
      "/opt/conda/lib/python3.6/site-packages/sklearn/linear_model/logistic.py:432: FutureWarning: Default solver will be changed to 'lbfgs' in 0.22. Specify a solver to silence this warning.\n",
      "  FutureWarning)\n"
     ]
    },
    {
     "name": "stdout",
     "output_type": "stream",
     "text": [
      "Accuracy Score:  97.32 %\n",
      "              precision    recall  f1-score   support\n",
      "\n",
      "    No Fraud       1.00      0.97      0.99     28432\n",
      "       Fraud       0.06      0.92      0.11        49\n",
      "\n",
      "    accuracy                           0.97     28481\n",
      "   macro avg       0.53      0.95      0.55     28481\n",
      "weighted avg       1.00      0.97      0.98     28481\n",
      "\n"
     ]
    }
   ],
   "source": [
    "#Using this Oversampled data to fit a Logistic Regression model\n",
    "logr = LogisticRegression().fit(os_values_skb, os_labels[0].ravel())\n",
    "\n",
    "#Predicting on original test set\n",
    "predictions = logr.predict(values_test)\n",
    "\n",
    "print(\"Accuracy Score: \", round(accuracy_score(labels_test, predictions)*100, 2), '%')\n",
    "print(classification_report(labels_test, predictions, target_names=[\"No Fraud\", \"Fraud\"]))\n"
   ]
  },
  {
   "cell_type": "code",
   "execution_count": 22,
   "metadata": {},
   "outputs": [
    {
     "data": {
      "text/plain": [
       "(0.0, 1.1)"
      ]
     },
     "execution_count": 22,
     "metadata": {},
     "output_type": "execute_result"
    },
    {
     "data": {
      "image/png": "[encoded data removed]",
      "text/plain": [
       "<Figure size 720x360 with 1 Axes>"
      ]
     },
     "metadata": {
      "needs_background": "light"
     },
     "output_type": "display_data"
    }
   ],
   "source": [
    "#Computing major metrics\n",
    "y_score = logr.decision_function(values_test)\n",
    "precision, recall, _ = precision_recall_curve(labels_test, y_score)\n",
    "fig = plt.figure(figsize=(10,5))\n",
    "sns.lineplot(recall, precision, drawstyle='steps-post')\n",
    "plt.fill_between(recall, precision, alpha=0.1, color='#78a2e2')\n",
    "plt.title('Precision-Recall Curve for Logistic Regression')\n",
    "plt.xlabel('Recall')\n",
    "plt.ylabel('Precision')\n",
    "plt.ylim([0.0, 1.1])\n",
    "plt.xlim([0.0, 1.1])\n"
   ]
  },
  {
   "cell_type": "markdown",
   "metadata": {},
   "source": [
    "As we can see, our Logistic Regression model, is not proving to be as good as model which the accuracy is suggesting. The precision score is too low. The Precision-Recall curve though, depicts a different story. The documentation states the following:\n",
    "\n",
    "> <font color=\"#686a6d\">The precision-recall curve shows the tradeoff between precision and recall for different threshold. A high area under the curve represents both high recall and high precision, where high precision relates to a low false positive rate, and high recall relates to a low false negative rate. High scores for both show that the classifier is returning accurate results (high precision), as well as returning a majority of all positive results (high recall)\"</font>"
   ]
  },
  {
   "cell_type": "markdown",
   "metadata": {},
   "source": [
    "The area under the P-R curve seems to depict that our model is working moderately well. We could expect a better performance though, since we have not even tuned this model as of now. We will have to tune our model with various parameters, for achieving a better performance. Before we do that, let's look at the performance with some other models."
   ]
  },
  {
   "cell_type": "code",
   "execution_count": 23,
   "metadata": {},
   "outputs": [
    {
     "ename": "AttributeError",
     "evalue": "'numpy.ndarray' object has no attribute 'time'",
     "output_type": "error",
     "traceback": [
      "\u001b[0;31m---------------------------------------------------------------------------\u001b[0m",
      "\u001b[0;31mAttributeError\u001b[0m                            Traceback (most recent call last)",
      "\u001b[0;32m<ipython-input-23-c21ce2a60c0c>\u001b[0m in \u001b[0;36m<module>\u001b[0;34m\u001b[0m\n\u001b[0;32m----> 1\u001b[0;31m \u001b[0mt0\u001b[0m \u001b[0;34m=\u001b[0m \u001b[0mtime\u001b[0m\u001b[0;34m.\u001b[0m\u001b[0mtime\u001b[0m\u001b[0;34m(\u001b[0m\u001b[0;34m)\u001b[0m\u001b[0;34m\u001b[0m\u001b[0m\n\u001b[0m\u001b[1;32m      2\u001b[0m \u001b[0;34m\u001b[0m\u001b[0m\n\u001b[1;32m      3\u001b[0m \u001b[0mDT\u001b[0m \u001b[0;34m=\u001b[0m \u001b[0mDecisionTreeClassifier\u001b[0m\u001b[0;34m(\u001b[0m\u001b[0;34m)\u001b[0m\u001b[0;34m\u001b[0m\u001b[0m\n\u001b[1;32m      4\u001b[0m \u001b[0my_pred_DT\u001b[0m \u001b[0;34m=\u001b[0m \u001b[0mDT\u001b[0m\u001b[0;34m.\u001b[0m\u001b[0mfit\u001b[0m\u001b[0;34m(\u001b[0m\u001b[0mos_values_skb\u001b[0m\u001b[0;34m,\u001b[0m \u001b[0mos_labels\u001b[0m\u001b[0;34m[\u001b[0m\u001b[0;36m0\u001b[0m\u001b[0;34m]\u001b[0m\u001b[0;34m.\u001b[0m\u001b[0mravel\u001b[0m\u001b[0;34m(\u001b[0m\u001b[0;34m)\u001b[0m\u001b[0;34m)\u001b[0m\u001b[0;34m.\u001b[0m\u001b[0mpredict\u001b[0m\u001b[0;34m(\u001b[0m\u001b[0mvalues_test\u001b[0m\u001b[0;34m)\u001b[0m\u001b[0;34m\u001b[0m\u001b[0m\n\u001b[1;32m      5\u001b[0m \u001b[0;34m\u001b[0m\u001b[0m\n",
      "\u001b[0;31mAttributeError\u001b[0m: 'numpy.ndarray' object has no attribute 'time'"
     ]
    }
   ],
   "source": [
    "t0 = time.time()\n",
    "\n",
    "DT = DecisionTreeClassifier()\n",
    "y_pred_DT = DT.fit(os_values_skb, os_labels[0].ravel()).predict(values_test)\n",
    "\n",
    "t1 = time.time()\n",
    "print(\"Fitting Decision Tree model took\", t1-t0, \"secs.\")\n",
    "print(\".\"*10)\n",
    "ada = AdaBoostClassifier()\n",
    "y_pred_ada = ada.fit(os_values_skb, os_labels[0].ravel()).predict(values_test)\n",
    "\n",
    "t2 = time.time()\n",
    "print(\"Fitting Adaboost model took\", t2-t1, \"secs.\")\n",
    "print(\".\"*10)\n",
    "xgb = GradientBoostingClassifier()\n",
    "y_pred_xgb = xgb.fit(os_values_skb, os_labels[0].ravel()).predict(values_test)\n",
    "\n",
    "t3 = time.time()\n",
    "print(\"Fitting XGBoost model took\", t3-t2, \"secs.\")\n",
    "print(\".\"*10)"
   ]
  },
  {
   "cell_type": "code",
   "execution_count": 24,
   "metadata": {
    "scrolled": false
   },
   "outputs": [
    {
     "ename": "NameError",
     "evalue": "name 'y_pred_DT' is not defined",
     "output_type": "error",
     "traceback": [
      "\u001b[0;31m---------------------------------------------------------------------------\u001b[0m",
      "\u001b[0;31mNameError\u001b[0m                                 Traceback (most recent call last)",
      "\u001b[0;32m<ipython-input-24-314fa4ad098f>\u001b[0m in \u001b[0;36m<module>\u001b[0;34m\u001b[0m\n\u001b[1;32m      1\u001b[0m \u001b[0;31m# Precision, Recall, and actual prediction numbers\u001b[0m\u001b[0;34m\u001b[0m\u001b[0;34m\u001b[0m\u001b[0m\n\u001b[0;32m----> 2\u001b[0;31m \u001b[0mprint\u001b[0m\u001b[0;34m(\u001b[0m\u001b[0;34m\"Accuracy Score for DT: \"\u001b[0m\u001b[0;34m,\u001b[0m \u001b[0mround\u001b[0m\u001b[0;34m(\u001b[0m\u001b[0maccuracy_score\u001b[0m\u001b[0;34m(\u001b[0m\u001b[0mlabels_test\u001b[0m\u001b[0;34m,\u001b[0m \u001b[0my_pred_DT\u001b[0m\u001b[0;34m)\u001b[0m\u001b[0;34m*\u001b[0m\u001b[0;36m100\u001b[0m\u001b[0;34m,\u001b[0m \u001b[0;36m2\u001b[0m\u001b[0;34m)\u001b[0m\u001b[0;34m,\u001b[0m \u001b[0;34m'%'\u001b[0m\u001b[0;34m)\u001b[0m\u001b[0;34m\u001b[0m\u001b[0m\n\u001b[0m\u001b[1;32m      3\u001b[0m \u001b[0mprint\u001b[0m\u001b[0;34m(\u001b[0m\u001b[0mclassification_report\u001b[0m\u001b[0;34m(\u001b[0m\u001b[0mlabels_test\u001b[0m\u001b[0;34m,\u001b[0m \u001b[0my_pred_DT\u001b[0m\u001b[0;34m)\u001b[0m\u001b[0;34m)\u001b[0m\u001b[0;34m\u001b[0m\u001b[0m\n\u001b[1;32m      4\u001b[0m \u001b[0mprint\u001b[0m\u001b[0;34m(\u001b[0m\u001b[0;34m\"-\"\u001b[0m \u001b[0;34m*\u001b[0m \u001b[0;36m40\u001b[0m\u001b[0;34m)\u001b[0m\u001b[0;34m\u001b[0m\u001b[0m\n\u001b[1;32m      5\u001b[0m \u001b[0mprint\u001b[0m\u001b[0;34m(\u001b[0m\u001b[0;34m\"Accuracy Score for AdaBoost: \"\u001b[0m\u001b[0;34m,\u001b[0m \u001b[0mround\u001b[0m\u001b[0;34m(\u001b[0m\u001b[0maccuracy_score\u001b[0m\u001b[0;34m(\u001b[0m\u001b[0mlabels_test\u001b[0m\u001b[0;34m,\u001b[0m \u001b[0my_pred_ada\u001b[0m\u001b[0;34m)\u001b[0m\u001b[0;34m*\u001b[0m\u001b[0;36m100\u001b[0m\u001b[0;34m,\u001b[0m \u001b[0;36m2\u001b[0m\u001b[0;34m)\u001b[0m\u001b[0;34m,\u001b[0m \u001b[0;34m'%'\u001b[0m\u001b[0;34m)\u001b[0m\u001b[0;34m\u001b[0m\u001b[0m\n",
      "\u001b[0;31mNameError\u001b[0m: name 'y_pred_DT' is not defined"
     ]
    }
   ],
   "source": [
    "# Precision, Recall, and actual prediction numbers\n",
    "print(\"Accuracy Score for DT: \", round(accuracy_score(labels_test, y_pred_DT)*100, 2), '%')\n",
    "print(classification_report(labels_test, y_pred_DT))\n",
    "print(\"-\" * 40)\n",
    "print(\"Accuracy Score for AdaBoost: \", round(accuracy_score(labels_test, y_pred_ada)*100, 2), '%')\n",
    "print(classification_report(labels_test, y_pred_ada))\n",
    "print(\"-\" * 40)\n",
    "print(\"Accuracy Score for XGB: \", round(accuracy_score(labels_test, y_pred_xgb)*100, 2), '%')\n",
    "print(classification_report(labels_test, y_pred_xgb))"
   ]
  },
  {
   "cell_type": "markdown",
   "metadata": {},
   "source": [
    "We are achieving similar results from this. Let's move on to tuning our parameters for our models, using GridSearchCV.\n",
    "***"
   ]
  },
  {
   "cell_type": "markdown",
   "metadata": {},
   "source": [
    "#### Tuning Our Models\n",
    "\n",
    "We will be tuning our basic Logistic Regression model, using various parameters, to obtain a better performance."
   ]
  },
  {
   "cell_type": "code",
   "execution_count": 25,
   "metadata": {},
   "outputs": [],
   "source": [
    "#Trying below three models:\n",
    "# Logistic Regression Classifier\n",
    "def tune_LogR():\n",
    "    print(\"------------------ Using Logistic Regression --------------------\")\n",
    "    clf = LogisticRegression()\n",
    "    param_grid = {\n",
    "        'clf__penalty': ['l1', 'l2'],\n",
    "        'clf__C' : [1.0, 10.0, 25.0, 50.0, 100.0, 500.0, 1000.0],\n",
    "        'clf__solver' : ['liblinear']\n",
    "    }\n",
    "\n",
    "    return clf, param_grid"
   ]
  },
  {
   "cell_type": "code",
   "execution_count": 26,
   "metadata": {},
   "outputs": [
    {
     "name": "stdout",
     "output_type": "stream",
     "text": [
      "------------------ Using Logistic Regression --------------------\n"
     ]
    },
    {
     "name": "stderr",
     "output_type": "stream",
     "text": [
      "/opt/conda/lib/python3.6/site-packages/sklearn/model_selection/_split.py:1978: FutureWarning: The default value of cv will change from 3 to 5 in version 0.22. Specify it explicitly to silence this warning.\n",
      "  warnings.warn(CV_WARNING, FutureWarning)\n"
     ]
    },
    {
     "name": "stdout",
     "output_type": "stream",
     "text": [
      "\n",
      "=> Chosen parameters :\n",
      "{'clf__C': 50.0, 'clf__penalty': 'l1', 'clf__solver': 'liblinear'}\n",
      "Accuracy Score:  97.35 %\n",
      "Classification Report:\n",
      "               precision    recall  f1-score   support\n",
      "\n",
      "   Non-Fraud       1.00      0.97      0.99     28432\n",
      "       Fraud       0.06      0.92      0.11        49\n",
      "\n",
      "    accuracy                           0.97     28481\n",
      "   macro avg       0.53      0.95      0.55     28481\n",
      "weighted avg       1.00      0.97      0.99     28481\n",
      "\n"
     ]
    }
   ],
   "source": [
    "# Create pipeline\n",
    "clf, params = tune_LogR()\n",
    "estimators = [('clf', clf)]\n",
    "pipe = Pipeline(estimators)\n",
    "\n",
    "# Create GridSearchCV Instance\n",
    "grid = GridSearchCV(pipe, params)\n",
    "grid.fit(os_values_skb, os_labels[0].ravel())\n",
    "\n",
    "# Final classifier\n",
    "clf = grid.best_estimator_\n",
    "\n",
    "print('\\n=> Chosen parameters :')\n",
    "print(grid.best_params_)\n",
    "\n",
    "predictions = clf.predict(values_test)\n",
    "print(\"Accuracy Score: \", round(accuracy_score(labels_test, predictions)*100, 2), '%')\n",
    "print(\"Classification Report:\\n\", classification_report(labels_test, predictions, target_names = ['Non-Fraud', 'Fraud']))"
   ]
  },
  {
   "cell_type": "code",
   "execution_count": 27,
   "metadata": {
    "scrolled": false
   },
   "outputs": [
    {
     "data": {
      "text/plain": [
       "(0.0, 1.1)"
      ]
     },
     "execution_count": 27,
     "metadata": {},
     "output_type": "execute_result"
    },
    {
     "data": {
      "image/png": "[encoded data removed]",
      "text/plain": [
       "<Figure size 720x360 with 1 Axes>"
      ]
     },
     "metadata": {
      "needs_background": "light"
     },
     "output_type": "display_data"
    }
   ],
   "source": [
    "#Plotting the P-R curve for this tuned model\n",
    "y_score = clf.decision_function(values_test)\n",
    "precision, recall, _ = precision_recall_curve(labels_test, y_score)\n",
    "fig = plt.figure(figsize=(10,5))\n",
    "sns.lineplot(recall, precision, drawstyle='steps-post')\n",
    "plt.fill_between(recall, precision, alpha=0.1, color='#78a2e2')\n",
    "plt.title('Precision-Recall Curve for Logistic Regression - After Tuning')\n",
    "plt.xlabel('Recall')\n",
    "plt.ylabel('Precision')\n",
    "plt.ylim([0.0, 1.1])\n",
    "plt.xlim([0.0, 1.1])"
   ]
  },
  {
   "cell_type": "code",
   "execution_count": 28,
   "metadata": {},
   "outputs": [
    {
     "name": "stdout",
     "output_type": "stream",
     "text": [
      "True Negatives: 27680\n",
      "False Positives: 752\n",
      "False Negatives: 4\n",
      "True Positives: 45\n"
     ]
    }
   ],
   "source": [
    "#Plotting confusion matrix for this\n",
    "tn, fp, fn, tp = confusion_matrix(labels_test, predictions).ravel()\n",
    "print(\"True Negatives:\", tn)\n",
    "print(\"False Positives:\", fp)\n",
    "print('False Negatives:', fn)\n",
    "print('True Positives:', tp)"
   ]
  },
  {
   "cell_type": "markdown",
   "metadata": {},
   "source": [
    "Let's test out our model's performance on an balanced dataset, for validation purposes.\n",
    "We will split the data with a ratio of 70:30, keeping the percentage equal, as in using the oversampled dataset."
   ]
  },
  {
   "cell_type": "code",
   "execution_count": 29,
   "metadata": {},
   "outputs": [],
   "source": [
    "splitter = StratifiedShuffleSplit(n_splits=5, test_size=0.3, random_state=1)\n",
    "for train_index, test_index in splitter.split(os_values, os_labels):\n",
    "    _, os_values_test = os_values.iloc[train_index], os_values.iloc[test_index]\n",
    "    _, os_labels_test = os_labels.iloc[train_index], os_labels.iloc[test_index]"
   ]
  },
  {
   "cell_type": "code",
   "execution_count": 30,
   "metadata": {},
   "outputs": [
    {
     "name": "stdout",
     "output_type": "stream",
     "text": [
      "Accuracy Score:  94.65 %\n",
      "Classification Report:\n",
      "               precision    recall  f1-score   support\n",
      "\n",
      "   Non-Fraud       0.92      0.97      0.95     76765\n",
      "       Fraud       0.97      0.92      0.95     76765\n",
      "\n",
      "    accuracy                           0.95    153530\n",
      "   macro avg       0.95      0.95      0.95    153530\n",
      "weighted avg       0.95      0.95      0.95    153530\n",
      "\n"
     ]
    }
   ],
   "source": [
    "predictions = clf.predict(os_values_test)\n",
    "print(\"Accuracy Score: \", round(accuracy_score(os_labels_test, predictions)*100, 2), '%')\n",
    "print(\"Classification Report:\\n\", classification_report(os_labels_test, predictions, target_names = ['Non-Fraud', 'Fraud']))"
   ]
  },
  {
   "cell_type": "markdown",
   "metadata": {},
   "source": [
    "As is expected, we are getting amazing scores all over for this, as we have a balanced dataset, plus the model has been trained on it before."
   ]
  },
  {
   "cell_type": "markdown",
   "metadata": {},
   "source": [
    "***"
   ]
  },
  {
   "cell_type": "markdown",
   "metadata": {},
   "source": [
    "### Summary"
   ]
  },
  {
   "cell_type": "markdown",
   "metadata": {},
   "source": [
    "In conclusion, we have understood that this dataset has a huge class imbalance, that will definitely affect our analysis as well as model building approach. We have to keep in mind some important points, which are stated below:\n",
    "\n",
    "- The relationships between our target variable 'Class' and our predictor variables, is difficult to estimate if we just look at the original dataset. It is highly skewed.\n",
    "- To establish a clear understanding, we need to remove the class imbalance present in our dataset. We have used SMOTE as an oversampling technique for the minority class. We have not gone with undersampling as it may lead to information loss.\n",
    "- Since this is a binary classification problem, we have chosen Logistic Regression as our model. After oversampling and tuning our model, we have achieved an accuracy of **97.34%**. Our main metric, **Area Under the Precision Recall Curve**, seems to show that model performance is moderate. We have high recall scores, but lower precision scores.\n",
    "- Testing it on a balanced dataset, we have seen that both precision and recall prove to be very high.\n",
    "\n"
   ]
  },
  {
   "cell_type": "markdown",
   "metadata": {},
   "source": [
    "Our main concern, is to point out if a transaction can be safely classified as fraud or not. This model might not be highly accurate in predicting frauds, but at the same time the number of correctly predicted 'Non-Fraud' Transactions is a positive point. We don't want actual, genuine transactions to be classified as Fraud. The case presented in this study is definitely a real world scenario, where the number of fake transactions would be quite low, when compared to genuine transactions."
   ]
  },
  {
   "cell_type": "markdown",
   "metadata": {},
   "source": [
    "Lastly, as part of future additions to this study, I would like to go ahead with in depth analysis of the PCA scaled features provided to us, through Hypothesis testing. It might lead to some idea of how they are affecting the target class. Also, using unsupervised learning techniques such as K-Means Clustering, on the oversampled data, might prove to be beneficial, as SMOTE works on the principle of nearest neighbours as well."
   ]
  }
 ],
 "metadata": {
  "kernelspec": {
   "display_name": "Python 3",
   "language": "python",
   "name": "python3"
  },
  "language_info": {
   "codemirror_mode": {
    "name": "ipython",
    "version": 3
   },
   "file_extension": ".py",
   "mimetype": "text/x-python",
   "name": "python",
   "nbconvert_exporter": "python",
   "pygments_lexer": "ipython3",
   "version": "3.6.6"
  }
 },
 "nbformat": 4,
 "nbformat_minor": 1
}
